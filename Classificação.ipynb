{
 "cells": [
  {
   "cell_type": "markdown",
   "id": "249e58bd-dc05-4fdb-9e47-c8dcb3259429",
   "metadata": {},
   "source": [
    "# Classificação"
   ]
  },
  {
   "cell_type": "markdown",
   "id": "dc6035ab-119f-4fe6-be42-a74d2681176d",
   "metadata": {
    "tags": []
   },
   "source": [
    "# MNIST\n",
    "\n",
    "Este sera o dataset análisado, consiste em algorimos escritos a mão, o objetivo desse projeto será prever qual algorismo é este com base nos dados."
   ]
  },
  {
   "cell_type": "code",
   "execution_count": 1,
   "id": "c799c543-adab-4c70-b12c-69073b3e2965",
   "metadata": {},
   "outputs": [
    {
     "data": {
      "text/plain": [
       "dict_keys(['data', 'target', 'frame', 'categories', 'feature_names', 'target_names', 'DESCR', 'details', 'url'])"
      ]
     },
     "execution_count": 1,
     "metadata": {},
     "output_type": "execute_result"
    }
   ],
   "source": [
    "from sklearn.datasets import fetch_openml\n",
    "#importando o dataset\n",
    "mnist = fetch_openml(\"mnist_784\", version=1)\n",
    "mnist.keys()"
   ]
  },
  {
   "cell_type": "code",
   "execution_count": 17,
   "id": "ab33b3b1-db58-4867-b651-86421af0fc94",
   "metadata": {},
   "outputs": [
    {
     "data": {
      "text/plain": [
       "(70000, 784)"
      ]
     },
     "execution_count": 17,
     "metadata": {},
     "output_type": "execute_result"
    }
   ],
   "source": [
    "#Separando as variaveis independentes e a variavel dependete\n",
    "X, y = mnist[\"data\"], mnist[\"target\"].astype(np.uint8)\n",
    "X.shape"
   ]
  },
  {
   "cell_type": "markdown",
   "id": "c218ab27-eb60-46e2-aa01-d27a10aa29e4",
   "metadata": {},
   "source": [
    "Como podemos perceber, temos 70 mil observações e cada uma possui 784 características. pois são imagens de 28 x 28 pixels, como podemos visualizar pela imagem abaixo:"
   ]
  },
  {
   "cell_type": "code",
   "execution_count": 18,
   "id": "77534375-86de-4e1b-859c-a33a2b617c39",
   "metadata": {},
   "outputs": [
    {
     "data": {
      "image/png": "[encoded data removed]",
      "text/plain": [
       "<Figure size 640x480 with 1 Axes>"
      ]
     },
     "metadata": {},
     "output_type": "display_data"
    }
   ],
   "source": [
    "from matplotlib import pyplot as plt\n",
    "import numpy as np\n",
    "\n",
    "digito = np.array(X.iloc[100])\n",
    "digito_imagem = digito.reshape(28, 28)\n",
    "\n",
    "plt.imshow(digito_imagem, cmap='binary')\n",
    "plt.title(f'O valor do digito é {y[100]}')\n",
    "plt.axis('off')\n",
    "plt.show()"
   ]
  },
  {
   "cell_type": "code",
   "execution_count": 20,
   "id": "04b164f3-8660-4e09-baa2-a534d1c4e4a5",
   "metadata": {},
   "outputs": [],
   "source": [
    "from sklearn.model_selection import train_test_split as tts\n",
    "\n",
    "X_train, X_test, y_train, y_test = tts(X, y, train_size = 0.857142857)"
   ]
  },
  {
   "cell_type": "markdown",
   "id": "055869c3-84b3-4477-ae0b-5ffdca866917",
   "metadata": {
    "tags": []
   },
   "source": [
    "# Treinando um classificador binario\n",
    "\n",
    "vamos começar simplificando o problema, classificando apenas se o númeor é um 5 ou não"
   ]
  },
  {
   "cell_type": "code",
   "execution_count": 21,
   "id": "4866c047-dd4f-4c9f-b372-b6f76629e55e",
   "metadata": {},
   "outputs": [],
   "source": [
    "# Criando um vetor com true para valores iguais a 5 e false, caso contrario\n",
    "y_train_5 = (y_train == 5)\n",
    "y_test_5 = (y_test == 5)"
   ]
  },
  {
   "cell_type": "code",
   "execution_count": 22,
   "id": "89796ced-20c1-42de-a09f-1c4eb35aa68d",
   "metadata": {},
   "outputs": [
    {
     "data": {
      "text/html": [
       "<style>#sk-container-id-1 {color: black;background-color: white;}#sk-container-id-1 pre{padding: 0;}#sk-container-id-1 div.sk-toggleable {background-color: white;}#sk-container-id-1 label.sk-toggleable__label {cursor: pointer;display: block;width: 100%;margin-bottom: 0;padding: 0.3em;box-sizing: border-box;text-align: center;}#sk-container-id-1 label.sk-toggleable__label-arrow:before {content: \"▸\";float: left;margin-right: 0.25em;color: #696969;}#sk-container-id-1 label.sk-toggleable__label-arrow:hover:before {color: black;}#sk-container-id-1 div.sk-estimator:hover label.sk-toggleable__label-arrow:before {color: black;}#sk-container-id-1 div.sk-toggleable__content {max-height: 0;max-width: 0;overflow: hidden;text-align: left;background-color: #f0f8ff;}#sk-container-id-1 div.sk-toggleable__content pre {margin: 0.2em;color: black;border-radius: 0.25em;background-color: #f0f8ff;}#sk-container-id-1 input.sk-toggleable__control:checked~div.sk-toggleable__content {max-height: 200px;max-width: 100%;overflow: auto;}#sk-container-id-1 input.sk-toggleable__control:checked~label.sk-toggleable__label-arrow:before {content: \"▾\";}#sk-container-id-1 div.sk-estimator input.sk-toggleable__control:checked~label.sk-toggleable__label {background-color: #d4ebff;}#sk-container-id-1 div.sk-label input.sk-toggleable__control:checked~label.sk-toggleable__label {background-color: #d4ebff;}#sk-container-id-1 input.sk-hidden--visually {border: 0;clip: rect(1px 1px 1px 1px);clip: rect(1px, 1px, 1px, 1px);height: 1px;margin: -1px;overflow: hidden;padding: 0;position: absolute;width: 1px;}#sk-container-id-1 div.sk-estimator {font-family: monospace;background-color: #f0f8ff;border: 1px dotted black;border-radius: 0.25em;box-sizing: border-box;margin-bottom: 0.5em;}#sk-container-id-1 div.sk-estimator:hover {background-color: #d4ebff;}#sk-container-id-1 div.sk-parallel-item::after {content: \"\";width: 100%;border-bottom: 1px solid gray;flex-grow: 1;}#sk-container-id-1 div.sk-label:hover label.sk-toggleable__label {background-color: #d4ebff;}#sk-container-id-1 div.sk-serial::before {content: \"\";position: absolute;border-left: 1px solid gray;box-sizing: border-box;top: 0;bottom: 0;left: 50%;z-index: 0;}#sk-container-id-1 div.sk-serial {display: flex;flex-direction: column;align-items: center;background-color: white;padding-right: 0.2em;padding-left: 0.2em;position: relative;}#sk-container-id-1 div.sk-item {position: relative;z-index: 1;}#sk-container-id-1 div.sk-parallel {display: flex;align-items: stretch;justify-content: center;background-color: white;position: relative;}#sk-container-id-1 div.sk-item::before, #sk-container-id-1 div.sk-parallel-item::before {content: \"\";position: absolute;border-left: 1px solid gray;box-sizing: border-box;top: 0;bottom: 0;left: 50%;z-index: -1;}#sk-container-id-1 div.sk-parallel-item {display: flex;flex-direction: column;z-index: 1;position: relative;background-color: white;}#sk-container-id-1 div.sk-parallel-item:first-child::after {align-self: flex-end;width: 50%;}#sk-container-id-1 div.sk-parallel-item:last-child::after {align-self: flex-start;width: 50%;}#sk-container-id-1 div.sk-parallel-item:only-child::after {width: 0;}#sk-container-id-1 div.sk-dashed-wrapped {border: 1px dashed gray;margin: 0 0.4em 0.5em 0.4em;box-sizing: border-box;padding-bottom: 0.4em;background-color: white;}#sk-container-id-1 div.sk-label label {font-family: monospace;font-weight: bold;display: inline-block;line-height: 1.2em;}#sk-container-id-1 div.sk-label-container {text-align: center;}#sk-container-id-1 div.sk-container {/* jupyter's `normalize.less` sets `[hidden] { display: none; }` but bootstrap.min.css set `[hidden] { display: none !important; }` so we also need the `!important` here to be able to override the default hidden behavior on the sphinx rendered scikit-learn.org. See: https://github.com/scikit-learn/scikit-learn/issues/21755 */display: inline-block !important;position: relative;}#sk-container-id-1 div.sk-text-repr-fallback {display: none;}</style><div id=\"sk-container-id-1\" class=\"sk-top-container\"><div class=\"sk-text-repr-fallback\"><pre>SGDClassifier()</pre><b>In a Jupyter environment, please rerun this cell to show the HTML representation or trust the notebook. <br />On GitHub, the HTML representation is unable to render, please try loading this page with nbviewer.org.</b></div><div class=\"sk-container\" hidden><div class=\"sk-item\"><div class=\"sk-estimator sk-toggleable\"><input class=\"sk-toggleable__control sk-hidden--visually\" id=\"sk-estimator-id-1\" type=\"checkbox\" checked><label for=\"sk-estimator-id-1\" class=\"sk-toggleable__label sk-toggleable__label-arrow\">SGDClassifier</label><div class=\"sk-toggleable__content\"><pre>SGDClassifier()</pre></div></div></div></div></div>"
      ],
      "text/plain": [
       "SGDClassifier()"
      ]
     },
     "execution_count": 22,
     "metadata": {},
     "output_type": "execute_result"
    }
   ],
   "source": [
    "from sklearn.linear_model import SGDClassifier\n",
    "\n",
    "sgd_clf = SGDClassifier()\n",
    "sgd_clf.fit(X_train, y_train_5)"
   ]
  },
  {
   "cell_type": "markdown",
   "id": "ec8c2000-0ef4-4090-a65d-4672d74a3bb4",
   "metadata": {},
   "source": [
    "# Avaliando um modelo de classificação\n",
    "\n",
    "Existem diversas formas de avaliar um modelo de classificação e algumas serão apresentadas a seguir"
   ]
  },
  {
   "cell_type": "markdown",
   "id": "12005e54-e0d1-4e73-b89d-47d18bb68f5a",
   "metadata": {},
   "source": [
    "## Acuracia através da validação cruzada\n",
    "\n",
    "Para isso utilizaremos a função presente no sklearn cross_val_score(), que divide o dataset em k_folds e treina modelos para predizer"
   ]
  },
  {
   "cell_type": "code",
   "execution_count": 23,
   "id": "6b754ae0-6476-4f5d-944e-15806b96388b",
   "metadata": {},
   "outputs": [
    {
     "data": {
      "text/plain": [
       "array([0.9624    , 0.9653    , 0.94934747])"
      ]
     },
     "execution_count": 23,
     "metadata": {},
     "output_type": "execute_result"
    }
   ],
   "source": [
    "from sklearn.model_selection import cross_val_score\n",
    "\n",
    "cross_val_score(sgd_clf, X_train, y_train_5, cv=3, scoring=\"accuracy\")"
   ]
  },
  {
   "cell_type": "markdown",
   "id": "64a1ea5e-6456-4fa3-9ad8-89c0ead70d01",
   "metadata": {},
   "source": [
    "Uma acuracia minima de 94% chama atenção, mas o dataset esta desbalenceado, com 10% das amostras sendo 5, assim caso o modelo chutasse tudo como não 5, teria uma acuracia de 90%"
   ]
  },
  {
   "cell_type": "markdown",
   "id": "08261b0f-9b7b-415e-977f-4a564910dfb3",
   "metadata": {},
   "source": [
    "## Matriz de Confusão\n",
    "\n",
    "Permite que tenhamos uma melhor ideia do desempenho do programa, assim podemos verificar os falsos positivos e falsos negativos. para fazer as predições utilizaremos o cross_val_predict(), que faz a mesma coisa que o cross_val_score(), mas retorna as predições através de validação cruzada ao invés das acuracias.\n",
    "\n",
    "Para entendermos os resultados devemos entender que os valores na horizontal são os reais e os na vertical são os previstos, sendo assim a diagonal central mostra as predições corretas, e o canto superior direito é os falsos positivos e os canto inferior direito são os falsos positivos."
   ]
  },
  {
   "cell_type": "code",
   "execution_count": 28,
   "id": "b3070657-ee90-4506-a0be-fcc40468d3fd",
   "metadata": {},
   "outputs": [],
   "source": [
    "from sklearn.model_selection import cross_val_predict\n",
    "\n",
    "y_train_pred = cross_val_predict(sgd_clf, X_train, y_train_5, cv=3)"
   ]
  },
  {
   "cell_type": "code",
   "execution_count": 31,
   "id": "3200e94a-2642-45f9-a4d1-46924fc75917",
   "metadata": {},
   "outputs": [
    {
     "data": {
      "text/plain": [
       "<AxesSubplot:>"
      ]
     },
     "execution_count": 31,
     "metadata": {},
     "output_type": "execute_result"
    },
    {
     "data": {
      "image/png": "[encoded data removed]",
      "text/plain": [
       "<Figure size 640x480 with 2 Axes>"
      ]
     },
     "metadata": {},
     "output_type": "display_data"
    }
   ],
   "source": [
    "from sklearn.metrics import confusion_matrix\n",
    "from seaborn import heatmap\n",
    "\n",
    "heatmap(confusion_matrix(y_train_5, y_train_pred), annot=True)"
   ]
  },
  {
   "cell_type": "markdown",
   "id": "a628c960-5d9e-4de8-a7fa-27ffd5d5fc08",
   "metadata": {},
   "source": [
    "A partir das matrizes de confusão podemos tirar algumas outras métricas para a análise:\n",
    "\n",
    "- Precisão: $\\frac{TP}{TP+FP}$, com TP sendo o número de verdadeiros positivos e FP o número de falsos verdadeiros. Essa métrica pode ser burlada, caso haja apenas uma medida verdadeira, e ela esteja correta. Por isso essa medida é sempre apresentada em conjunto com a revocação.\n",
    "\n",
    "- Revocação: $\\frac{TP}{TP+FN}$, com FN sendo falso negativo, isso previne o caso descrito anteriormente, pois caso ele ocorra a revocação vai ser baixa, alertando para algo errado no modelo.\n",
    "\n",
    "O scikir-learn oferece funções para calcularmos essas metricas de forma simples, como mostrado no código abaixo:"
   ]
  },
  {
   "cell_type": "code",
   "execution_count": 33,
   "id": "c43770bf-417f-495b-a2c0-f23b81d30479",
   "metadata": {},
   "outputs": [
    {
     "name": "stdout",
     "output_type": "stream",
     "text": [
      "A precisão foi de 0.8455762987012987\n",
      "A revocação foi de 0.7710954848260547\n"
     ]
    }
   ],
   "source": [
    "from sklearn.metrics import precision_score, recall_score\n",
    "\n",
    "print(f'A precisão foi de {precision_score(y_train_5, y_train_pred)}')\n",
    "print(f'A revocação foi de {recall_score(y_train_5, y_train_pred)}')"
   ]
  },
  {
   "cell_type": "markdown",
   "id": "8fb87dc8-863f-49a1-96e4-8010000657ed",
   "metadata": {},
   "source": [
    "Ou seja, o preditor so acerta 84% quando diz que é um 5 e so detecta 77% dos 5. O resultado ja não parece tão bom.\n",
    "\n",
    "Para fazer essa análise é importante que você considere as duas métricas e para isso existe o F1 score, que é a média harmônica da revocação e da precisão. Essa métrica é sensivel a valores baixos, com esses impactando muito o resultado, dando vantagem a valores altos. Também beneficia valores semelhante de precisão e revocação, algo que nem sempre é benéfico.\n",
    "$$ F_1 = \\frac{2}{\\frac{1}{precisão}+\\frac{1}{revocação}}$$"
   ]
  },
  {
   "cell_type": "code",
   "execution_count": 36,
   "id": "3379c459-e187-43eb-8394-f2abf0fe2504",
   "metadata": {},
   "outputs": [
    {
     "name": "stdout",
     "output_type": "stream",
     "text": [
      "O f1 foi de 0.8066202090592335\n"
     ]
    }
   ],
   "source": [
    "from sklearn.metrics import f1_score\n",
    "\n",
    "print(f'O f1 foi de {f1_score(y_train_5, y_train_pred)}')"
   ]
  },
  {
   "cell_type": "markdown",
   "id": "ae47f7c2-2401-4e22-a938-350a1a5c33cb",
   "metadata": {},
   "source": [
    "### Trade-off precisão-revocação\n",
    "\n",
    "Infelizmente, caso aumente a precisão a revocação cai, e vice versa. Isso acontece pois ele calcula um score e em uma funçao de decisão, caso esse score seja meno que o limiar ele retorna negativo e no inverso ele retorna positivo. Variando esse limiar é possivel alterar os valores de precisão e revocação. Podemos ver isso utilizando a precision_recal_curve() uma função do sklearn:"
   ]
  },
  {
   "cell_type": "code",
   "execution_count": 45,
   "id": "905f7d8d-c459-41f1-9a8a-f32e4e1ce569",
   "metadata": {},
   "outputs": [
    {
     "data": {
      "image/png": "[encoded data removed]",
      "text/plain": [
       "<Figure size 640x480 with 1 Axes>"
      ]
     },
     "metadata": {},
     "output_type": "display_data"
    }
   ],
   "source": [
    "from sklearn.metrics import precision_recall_curve\n",
    "\n",
    "#diferente dos das validações cruzadas anteriormente utilizamos o method para especificar que queremos os scores da funçao de decisão\n",
    "y_scores = cross_val_predict(sgd_clf, X_train, y_train_5, cv=3, method='decision_function')\n",
    "\n",
    "precisions, recalls, thresholds = precision_recall_curve(y_train_5, y_scores)\n",
    "\n",
    "plt.plot(thresholds, precisions[:-1], '-', label='precisão')\n",
    "plt.plot(thresholds, recalls[:-1], '--', label='revocação')\n",
    "plt.show()"
   ]
  }
 ],
 "metadata": {
  "kernelspec": {
   "display_name": "Python 3 (ipykernel)",
   "language": "python",
   "name": "python3"
  },
  "language_info": {
   "codemirror_mode": {
    "name": "ipython",
    "version": 3
   },
   "file_extension": ".py",
   "mimetype": "text/x-python",
   "name": "python",
   "nbconvert_exporter": "python",
   "pygments_lexer": "ipython3",
   "version": "3.10.6"
  }
 },
 "nbformat": 4,
 "nbformat_minor": 5
}
